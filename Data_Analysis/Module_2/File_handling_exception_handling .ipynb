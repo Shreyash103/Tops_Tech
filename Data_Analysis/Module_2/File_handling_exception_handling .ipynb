{
 "cells": [
  {
   "cell_type": "code",
   "execution_count": 1,
   "id": "10ae1f22",
   "metadata": {},
   "outputs": [],
   "source": [
    "import csv\n",
    "\n",
    "# Function to read employee data from a CSV file\n",
    "def read_employee_data(file_path):\n",
    "    try:\n",
    "        # Open the file for reading\n",
    "        with open(file_path, mode='r', newline='', encoding='utf-8') as file:\n",
    "            # Initialize CSV reader\n",
    "            csv_reader = csv.reader(file)\n",
    "            \n",
    "            # Skip the header (if present)\n",
    "            next(csv_reader, None)\n",
    "            \n",
    "            # Read and print each row of employee data\n",
    "            for row in csv_reader:\n",
    "                print(f\"Employee ID: {row[0]}, Name: {row[1]}, Position: {row[2]}, Salary: {row[3]}\")\n",
    "    \n",
    "    except FileNotFoundError:\n",
    "        print(f\"Error: The file {file_path} was not found.\")\n",
    "    \n",
    "    except ValueError:\n",
    "        print(f\"Error: There was an issue with the data format in the file {file_path}.\")\n",
    "    \n",
    "    except IOError:\n",
    "        print(f\"Error: An I/O error occurred while trying to read the file {file_path}.\")"
   ]
  },
  {
   "cell_type": "code",
   "execution_count": 2,
   "id": "3b3ffa0b",
   "metadata": {},
   "outputs": [
    {
     "name": "stdout",
     "output_type": "stream",
     "text": [
      "Employee ID: 1, Name:  Alice, Position:  Manager, Salary:  50000\n",
      "Employee ID: 2, Name:  Bob, Position:  Developer, Salary:  40000\n"
     ]
    }
   ],
   "source": [
    "# Main function\n",
    "def main():\n",
    "    # Path to the CSV file containing employee data\n",
    "    file_path = 'employee_data.csv'\n",
    "    \n",
    "    # Call the function to read the employee data\n",
    "    read_employee_data(file_path)\n",
    "\n",
    "if __name__ == \"__main__\":\n",
    "    main()"
   ]
  },
  {
   "cell_type": "code",
   "execution_count": 3,
   "id": "6137bd44",
   "metadata": {},
   "outputs": [
    {
     "name": "stdout",
     "output_type": "stream",
     "text": [
      "Error: The file emploe_data.csv was not found.\n"
     ]
    }
   ],
   "source": [
    "# Main function\n",
    "def main():\n",
    "    # Path to the CSV file containing employee data\n",
    "    file_path = 'emploe_data.csv'\n",
    "    \n",
    "    # Call the function to read the employee data\n",
    "    read_employee_data(file_path)\n",
    "\n",
    "if __name__ == \"__main__\":\n",
    "    main()"
   ]
  },
  {
   "cell_type": "code",
   "execution_count": null,
   "id": "4915deba",
   "metadata": {},
   "outputs": [],
   "source": []
  }
 ],
 "metadata": {
  "kernelspec": {
   "display_name": "Python 3 (ipykernel)",
   "language": "python",
   "name": "python3"
  },
  "language_info": {
   "codemirror_mode": {
    "name": "ipython",
    "version": 3
   },
   "file_extension": ".py",
   "mimetype": "text/x-python",
   "name": "python",
   "nbconvert_exporter": "python",
   "pygments_lexer": "ipython3",
   "version": "3.8.19"
  }
 },
 "nbformat": 4,
 "nbformat_minor": 5
}
