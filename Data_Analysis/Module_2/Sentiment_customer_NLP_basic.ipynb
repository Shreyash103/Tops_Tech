{
 "cells": [
  {
   "cell_type": "code",
   "execution_count": 3,
   "id": "9942bff4",
   "metadata": {},
   "outputs": [
    {
     "name": "stdout",
     "output_type": "stream",
     "text": [
      "Collecting textblob\n",
      "  Downloading textblob-0.18.0.post0-py3-none-any.whl.metadata (4.5 kB)\n",
      "Requirement already satisfied: nltk>=3.8 in /opt/anaconda3/lib/python3.8/site-packages (from textblob) (3.9.1)\n",
      "Requirement already satisfied: click in /opt/anaconda3/lib/python3.8/site-packages (from nltk>=3.8->textblob) (8.1.7)\n",
      "Requirement already satisfied: joblib in /opt/anaconda3/lib/python3.8/site-packages (from nltk>=3.8->textblob) (1.4.2)\n",
      "Requirement already satisfied: regex>=2021.8.3 in /opt/anaconda3/lib/python3.8/site-packages (from nltk>=3.8->textblob) (2024.7.24)\n",
      "Requirement already satisfied: tqdm in /opt/anaconda3/lib/python3.8/site-packages (from nltk>=3.8->textblob) (4.67.1)\n",
      "Downloading textblob-0.18.0.post0-py3-none-any.whl (626 kB)\n",
      "\u001b[2K   \u001b[90m━━━━━━━━━━━━━━━━━━━━━━━━━━━━━━━━━━━━━━━━\u001b[0m \u001b[32m626.3/626.3 kB\u001b[0m \u001b[31m5.8 MB/s\u001b[0m eta \u001b[36m0:00:00\u001b[0m\n",
      "\u001b[?25hInstalling collected packages: textblob\n",
      "Successfully installed textblob-0.18.0.post0\n",
      "Requirement already satisfied: nltk in /opt/anaconda3/lib/python3.8/site-packages (3.9.1)\n",
      "Requirement already satisfied: click in /opt/anaconda3/lib/python3.8/site-packages (from nltk) (8.1.7)\n",
      "Requirement already satisfied: joblib in /opt/anaconda3/lib/python3.8/site-packages (from nltk) (1.4.2)\n",
      "Requirement already satisfied: regex>=2021.8.3 in /opt/anaconda3/lib/python3.8/site-packages (from nltk) (2024.7.24)\n",
      "Requirement already satisfied: tqdm in /opt/anaconda3/lib/python3.8/site-packages (from nltk) (4.67.1)\n"
     ]
    }
   ],
   "source": [
    "!pip install textblob\n",
    "!pip install nltk"
   ]
  },
  {
   "cell_type": "code",
   "execution_count": 8,
   "id": "3d08193d",
   "metadata": {},
   "outputs": [],
   "source": [
    "from textblob import TextBlob\n",
    "import nltk\n",
    "\n",
    "# Download necessary NLTK data for TextBlob to work\n",
    "# nltk.download('movie_reviews')\n",
    "# nltk.download('punkt')\n",
    "\n",
    "\n",
    "# Function to analyze the sentiment of a given text\n",
    "\"\"\"\n",
    "Analyzes the sentiment of a given text using TextBlob.\n",
    "Returns the sentiment polarity and classification.\n",
    "\n",
    "Args:\n",
    "- text (str): The review text to analyze.\n",
    "\n",
    "Returns:\n",
    "- tuple: (polarity, sentiment classification)\n",
    "\"\"\"\n",
    "def analyze_sentiment(text):\n",
    "    # Create a TextBlob object\n",
    "    blob = TextBlob(text)\n",
    "    \n",
    "    # Get the polarity of the text\n",
    "    polarity = blob.sentiment.polarity  # ranges from -1 (negative) to +1 (positive)\n",
    "    \n",
    "    # Classify the sentiment based on polarity\n",
    "    if polarity > 0:\n",
    "        sentiment = 'Positive'\n",
    "    elif polarity < 0:\n",
    "        sentiment = 'Negative'\n",
    "    else:\n",
    "        sentiment = 'Neutral'\n",
    "    \n",
    "    return polarity, sentiment\n",
    "\n",
    "\"\"\"\n",
    "Analyze sentiment for a list of customer reviews.\n",
    "\n",
    "Args:\n",
    "- reviews (list): A list of strings containing customer reviews.\n",
    "\n",
    "Returns:\n",
    "- None: Outputs sentiment for each review.\n",
    "\"\"\"\n",
    "# Function to process a list of customer reviews and analyze sentiment\n",
    "def analyze_reviews(reviews):\n",
    "    for i, review in enumerate(reviews, 1):\n",
    "        print(f\"Review {i}:\")\n",
    "        polarity, sentiment = analyze_sentiment(review)\n",
    "        print(f\"  Sentiment: {sentiment} (Polarity: {polarity})\\n\")"
   ]
  },
  {
   "cell_type": "code",
   "execution_count": 9,
   "id": "d80846d6",
   "metadata": {},
   "outputs": [
    {
     "name": "stdout",
     "output_type": "stream",
     "text": [
      "Review 1:\n",
      "  Sentiment: Positive (Polarity: 0.4166666666666667)\n",
      "\n",
      "Review 2:\n",
      "  Sentiment: Negative (Polarity: -1.0)\n",
      "\n",
      "Review 3:\n",
      "  Sentiment: Positive (Polarity: 0.14999999999999997)\n",
      "\n",
      "Review 4:\n",
      "  Sentiment: Positive (Polarity: 0.5)\n",
      "\n",
      "Review 5:\n",
      "  Sentiment: Negative (Polarity: -0.75)\n",
      "\n"
     ]
    }
   ],
   "source": [
    "# Main function to test with some example reviews\n",
    "def main():\n",
    "    # Sample customer reviews \n",
    "    reviews = [\n",
    "        \"The product is amazing! I love it and will definitely buy again.\",\n",
    "        \"Worst purchase ever, it stopped working after one day.\",\n",
    "        \"It's okay, not great but not bad either.\",\n",
    "        \"Fantastic quality, exceeded my expectations!\",\n",
    "        \"Totally disappointed, I want a refund.\"\n",
    "    ]\n",
    "    \n",
    "    # Analyze the reviews\n",
    "    analyze_reviews(reviews)\n",
    "\n",
    "if __name__ == \"__main__\":\n",
    "    main()"
   ]
  },
  {
   "cell_type": "code",
   "execution_count": null,
   "id": "0d8841da",
   "metadata": {},
   "outputs": [],
   "source": []
  }
 ],
 "metadata": {
  "kernelspec": {
   "display_name": "Python 3 (ipykernel)",
   "language": "python",
   "name": "python3"
  },
  "language_info": {
   "codemirror_mode": {
    "name": "ipython",
    "version": 3
   },
   "file_extension": ".py",
   "mimetype": "text/x-python",
   "name": "python",
   "nbconvert_exporter": "python",
   "pygments_lexer": "ipython3",
   "version": "3.8.19"
  }
 },
 "nbformat": 4,
 "nbformat_minor": 5
}
