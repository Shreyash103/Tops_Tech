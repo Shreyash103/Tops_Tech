{
 "cells": [
  {
   "cell_type": "code",
   "execution_count": 1,
   "id": "450e16d4",
   "metadata": {},
   "outputs": [],
   "source": [
    "def celsius_to_fahrenheit(celsius):\n",
    "    fahrenheit = (celsius * 9/5) + 32\n",
    "    return fahrenheit"
   ]
  },
  {
   "cell_type": "code",
   "execution_count": 3,
   "id": "6ad4f157",
   "metadata": {},
   "outputs": [
    {
     "name": "stdout",
     "output_type": "stream",
     "text": [
      "Enter the temp value in celsius: 23\n",
      "23°C is equal to 73.4°F\n"
     ]
    }
   ],
   "source": [
    "celsius_temperature = int(input(\"Enter the temp value in celsius: \"))\n",
    "fahrenheit_temperature = celsius_to_fahrenheit(celsius_temperature)\n",
    "print(f\"{celsius_temperature}°C is equal to {fahrenheit_temperature}°F\")"
   ]
  },
  {
   "cell_type": "code",
   "execution_count": null,
   "id": "1a2ab7fb",
   "metadata": {},
   "outputs": [],
   "source": []
  }
 ],
 "metadata": {
  "kernelspec": {
   "display_name": "Python 3 (ipykernel)",
   "language": "python",
   "name": "python3"
  },
  "language_info": {
   "codemirror_mode": {
    "name": "ipython",
    "version": 3
   },
   "file_extension": ".py",
   "mimetype": "text/x-python",
   "name": "python",
   "nbconvert_exporter": "python",
   "pygments_lexer": "ipython3",
   "version": "3.8.19"
  }
 },
 "nbformat": 4,
 "nbformat_minor": 5
}
