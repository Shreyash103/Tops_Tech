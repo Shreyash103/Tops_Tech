{
 "cells": [
  {
   "cell_type": "code",
   "execution_count": 1,
   "id": "ef4c8436",
   "metadata": {},
   "outputs": [
    {
     "name": "stdout",
     "output_type": "stream",
     "text": [
      "Requirement already satisfied: requests in /opt/anaconda3/lib/python3.8/site-packages (2.32.3)\r\n",
      "Requirement already satisfied: charset-normalizer<4,>=2 in /opt/anaconda3/lib/python3.8/site-packages (from requests) (3.3.2)\r\n",
      "Requirement already satisfied: idna<4,>=2.5 in /opt/anaconda3/lib/python3.8/site-packages (from requests) (3.10)\r\n",
      "Requirement already satisfied: urllib3<3,>=1.21.1 in /opt/anaconda3/lib/python3.8/site-packages (from requests) (1.26.19)\r\n",
      "Requirement already satisfied: certifi>=2017.4.17 in /opt/anaconda3/lib/python3.8/site-packages (from requests) (2024.8.30)\r\n"
     ]
    }
   ],
   "source": [
    "# install required libraries \n",
    "!pip install requests"
   ]
  },
  {
   "cell_type": "code",
   "execution_count": 2,
   "id": "66502365",
   "metadata": {},
   "outputs": [
    {
     "name": "stdout",
     "output_type": "stream",
     "text": [
      "Requirement already satisfied: beautifulsoup4 in /opt/anaconda3/lib/python3.8/site-packages (4.12.3)\r\n",
      "Requirement already satisfied: soupsieve>1.2 in /opt/anaconda3/lib/python3.8/site-packages (from beautifulsoup4) (2.5)\r\n"
     ]
    }
   ],
   "source": [
    "!pip install beautifulsoup4"
   ]
  },
  {
   "cell_type": "code",
   "execution_count": 34,
   "id": "d0a8ae60",
   "metadata": {},
   "outputs": [
    {
     "name": "stdout",
     "output_type": "stream",
     "text": [
      "Headlines saved to headlines.txt\n"
     ]
    }
   ],
   "source": [
    "import requests\n",
    "from bs4 import BeautifulSoup"
   ]
  },
  {
   "cell_type": "code",
   "execution_count": 35,
   "id": "cb3db766",
   "metadata": {},
   "outputs": [],
   "source": [
    "# Function for scrape news headlines\n",
    "def scrape_headlines(url):\n",
    "    # Send an HTTP GET request to the website\n",
    "    response = requests.get(url)\n",
    "    \n",
    "    # Check if the request was successful - status code 200\n",
    "    if response.status_code == 200:\n",
    "        soup = BeautifulSoup(response.text, 'html.parser')\n",
    "        \n",
    "        # Find all headlines - this part may vary based on the website structure\n",
    "        headlines = soup.find_all('h2')  # for this assuming headlines are in <h2> tags\n",
    "        \n",
    "        # List to store extracted headlines\n",
    "        extracted_headlines = []\n",
    "        \n",
    "        for headline in headlines:\n",
    "            # Get the text of each headline and strip any surrounding whitespace\n",
    "            text = headline.get_text(strip=True)\n",
    "            if text:\n",
    "                extracted_headlines.append(text)\n",
    "        \n",
    "        return extracted_headlines\n",
    "    else:\n",
    "        print(\"Error: Unable to fetch the webpage.\")\n",
    "        return []"
   ]
  },
  {
   "cell_type": "code",
   "execution_count": 36,
   "id": "3f5709fe",
   "metadata": {},
   "outputs": [],
   "source": [
    "# Function to save headlines to a text file\n",
    "def save_headlines_to_file(headlines, filename='headlines.txt'):\n",
    "    with open(filename, 'w') as file:\n",
    "        for headline in headlines:\n",
    "            file.write(headline + '\\n')\n",
    "    print(f\"Headlines saved to {filename}\")"
   ]
  },
  {
   "cell_type": "code",
   "execution_count": 37,
   "id": "75853a2a",
   "metadata": {},
   "outputs": [],
   "source": [
    "# Main function to execute the program\n",
    "def main():\n",
    "    # URL of the news website you want to scrape\n",
    "    url = 'https://www.bbc.com/news'  # Replace with the actual URL\n",
    "    \n",
    "    # Scrape the headlines\n",
    "    headlines = scrape_headlines(url)\n",
    "    \n",
    "    # If headlines were found, save them to a file\n",
    "    if headlines:\n",
    "        save_headlines_to_file(headlines)\n",
    "    else:\n",
    "        print(\"No headlines found.\")"
   ]
  },
  {
   "cell_type": "code",
   "execution_count": 38,
   "id": "6ed8c293",
   "metadata": {},
   "outputs": [
    {
     "name": "stdout",
     "output_type": "stream",
     "text": [
      "Headlines saved to headlines.txt\n"
     ]
    }
   ],
   "source": [
    "if __name__ == '__main__':\n",
    "    main()"
   ]
  },
  {
   "cell_type": "code",
   "execution_count": null,
   "id": "896082d2",
   "metadata": {},
   "outputs": [],
   "source": []
  }
 ],
 "metadata": {
  "kernelspec": {
   "display_name": "Python 3 (ipykernel)",
   "language": "python",
   "name": "python3"
  },
  "language_info": {
   "codemirror_mode": {
    "name": "ipython",
    "version": 3
   },
   "file_extension": ".py",
   "mimetype": "text/x-python",
   "name": "python",
   "nbconvert_exporter": "python",
   "pygments_lexer": "ipython3",
   "version": "3.8.19"
  }
 },
 "nbformat": 4,
 "nbformat_minor": 5
}
