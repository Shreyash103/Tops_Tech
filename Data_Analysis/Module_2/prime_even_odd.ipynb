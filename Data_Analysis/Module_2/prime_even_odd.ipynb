{
 "cells": [
  {
   "cell_type": "code",
   "execution_count": 6,
   "id": "5ac385a2",
   "metadata": {},
   "outputs": [],
   "source": [
    "def check_number(n):\n",
    "    # Check if the number is zero\n",
    "    if n == 0:\n",
    "        return \"The number is Zero.\"\n",
    "\n",
    "    # Check if the number is even or odd\n",
    "    if n % 2 == 0:\n",
    "        return \"The number is Even.\"\n",
    "    else:\n",
    "        return \"The number is Odd.\""
   ]
  },
  {
   "cell_type": "code",
   "execution_count": 7,
   "id": "ebed20ad",
   "metadata": {},
   "outputs": [],
   "source": [
    "def is_prime(n):\n",
    "    # Prime numbers are greater than 1 and only divisible by 1 and themselves\n",
    "    if n <= 1:\n",
    "        return False\n",
    "    for i in range(2, n):\n",
    "        if n % i == 0:\n",
    "            return False\n",
    "    return True"
   ]
  },
  {
   "cell_type": "code",
   "execution_count": 8,
   "id": "3fb9307f",
   "metadata": {},
   "outputs": [],
   "source": [
    "def check_type(n):\n",
    "    # check if the number is zero\n",
    "    if n == 0:\n",
    "        return \"Zero\"\n",
    "    \n",
    "    # Check if the number is prime\n",
    "    if is_prime(n):\n",
    "        prime_status = \"Prime\"\n",
    "    else:\n",
    "        prime_status = \"Not Prime\"\n",
    "    \n",
    "    # Check if the number is even or odd\n",
    "    even_odd_status = check_number(n)\n",
    "    \n",
    "    return f\"The number {n} is {prime_status} and {even_odd_status}.\""
   ]
  },
  {
   "cell_type": "code",
   "execution_count": 10,
   "id": "f693afed",
   "metadata": {},
   "outputs": [
    {
     "name": "stdout",
     "output_type": "stream",
     "text": [
      "Enter a number: 1\n",
      "The number 1 is Not Prime and The number is Odd..\n"
     ]
    }
   ],
   "source": [
    "number = int(input(\"Enter a number: \"))\n",
    "result = check_type(number)\n",
    "print(result)"
   ]
  },
  {
   "cell_type": "code",
   "execution_count": null,
   "id": "815d971d",
   "metadata": {},
   "outputs": [],
   "source": []
  }
 ],
 "metadata": {
  "kernelspec": {
   "display_name": "Python 3 (ipykernel)",
   "language": "python",
   "name": "python3"
  },
  "language_info": {
   "codemirror_mode": {
    "name": "ipython",
    "version": 3
   },
   "file_extension": ".py",
   "mimetype": "text/x-python",
   "name": "python",
   "nbconvert_exporter": "python",
   "pygments_lexer": "ipython3",
   "version": "3.8.19"
  }
 },
 "nbformat": 4,
 "nbformat_minor": 5
}
