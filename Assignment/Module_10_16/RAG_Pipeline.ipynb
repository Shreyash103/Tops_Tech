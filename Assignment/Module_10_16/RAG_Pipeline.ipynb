{
  "nbformat": 4,
  "nbformat_minor": 0,
  "metadata": {
    "colab": {
      "provenance": []
    },
    "kernelspec": {
      "name": "python3",
      "display_name": "Python 3"
    },
    "language_info": {
      "name": "python"
    }
  },
  "cells": [
    {
      "cell_type": "code",
      "execution_count": null,
      "metadata": {
        "id": "UkbN7_tGdU3H"
      },
      "outputs": [],
      "source": [
        "!pip install langchain openai faiss-cpu"
      ]
    },
    {
      "cell_type": "code",
      "source": [
        "import openai\n",
        "\n",
        "# Set your OpenAI API key\n",
        "openai.api_key = 'your API key'"
      ],
      "metadata": {
        "id": "d9eSsDhcdbsH"
      },
      "execution_count": null,
      "outputs": []
    },
    {
      "cell_type": "code",
      "source": [
        "from langchain.vectorstores import FAISS\n",
        "from langchain.embeddings import OpenAIEmbeddings\n",
        "from langchain.document_loaders import TextLoader\n",
        "\n",
        "# Load documents (For demonstration, we use text files)\n",
        "# Make sure you have the documents stored in your local environment or use an appropriate source.\n",
        "documents = [\"doc1.txt\", \"doc2.txt\", \"doc3.txt\"]  # Replace with your document paths\n",
        "\n",
        "# Load documents into LangChain\n",
        "loader = TextLoader(documents, encoding=\"utf-8\")\n",
        "docs = loader.load()\n",
        "\n",
        "# Create embeddings using OpenAIEmbeddings\n",
        "embedding = OpenAIEmbeddings()\n",
        "\n",
        "# Create FAISS vector store\n",
        "vectorstore = FAISS.from_documents(docs, embedding)"
      ],
      "metadata": {
        "id": "Gt5D9utZdbpY"
      },
      "execution_count": null,
      "outputs": []
    },
    {
      "cell_type": "code",
      "source": [
        "# Build a RAG Pipeline\n",
        "from langchain.chains import RetrievalQA\n",
        "from langchain.llms import OpenAI\n",
        "\n",
        "# Initialize the OpenAI language model (You can choose gpt-3.5-turbo or gpt-4)\n",
        "llm = OpenAI(temperature=0)\n",
        "\n",
        "# Set up the RAG pipeline\n",
        "qa_chain = RetrievalQA.from_chain_type(llm=llm, chain_type=\"stuff\", retriever=vectorstore.as_retriever())"
      ],
      "metadata": {
        "id": "ePBOFFtadf74"
      },
      "execution_count": null,
      "outputs": []
    },
    {
      "cell_type": "code",
      "source": [
        "# query model and get response\n",
        "query = \"What is the impact of AI on business?\"\n",
        "response = qa_chain.run(query)\n",
        "\n",
        "print(\"Generated Response:\", response)\n"
      ],
      "metadata": {
        "id": "wyWKf8_sdfyi"
      },
      "execution_count": null,
      "outputs": []
    },
    {
      "cell_type": "code",
      "source": [
        "# Implementation with real-time data\n",
        "\n",
        "# Example of Custom Retrieval with an API\n",
        "import requests\n",
        "\n",
        "class APIRetriever:\n",
        "    def __init__(self, api_url):\n",
        "        self.api_url = api_url\n",
        "\n",
        "    def retrieve(self, query):\n",
        "        response = requests.get(f\"{self.api_url}/search\", params={\"query\": query})\n",
        "        if response.status_code == 200:\n",
        "            return response.json()  # Return the relevant data from API\n",
        "\n",
        "# Example usage of a real-time API retriever\n",
        "api_retriever = APIRetriever(\"https://example.com/api\")\n",
        "\n",
        "# Integrating custom retriever into LangChain pipeline\n",
        "qa_chain_with_api = RetrievalQA.from_chain_type(llm=llm, chain_type=\"stuff\", retriever=api_retriever.retrieve)\n",
        "\n",
        "# Query the model with real-time data\n",
        "query = \"What is the latest news about AI?\"\n",
        "response = qa_chain_with_api.run(query)\n",
        "\n",
        "print(\"Generated Response with Real-time Data:\", response)"
      ],
      "metadata": {
        "id": "EK3uOL3hdfld"
      },
      "execution_count": null,
      "outputs": []
    }
  ]
}