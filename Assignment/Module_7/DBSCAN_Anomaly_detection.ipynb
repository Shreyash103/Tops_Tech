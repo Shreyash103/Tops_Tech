{
 "cells": [
  {
   "cell_type": "code",
   "execution_count": 1,
   "id": "78c8772a",
   "metadata": {},
   "outputs": [
    {
     "data": {
      "text/html": [
       "<div>\n",
       "<style scoped>\n",
       "    .dataframe tbody tr th:only-of-type {\n",
       "        vertical-align: middle;\n",
       "    }\n",
       "\n",
       "    .dataframe tbody tr th {\n",
       "        vertical-align: top;\n",
       "    }\n",
       "\n",
       "    .dataframe thead th {\n",
       "        text-align: right;\n",
       "    }\n",
       "</style>\n",
       "<table border=\"1\" class=\"dataframe\">\n",
       "  <thead>\n",
       "    <tr style=\"text-align: right;\">\n",
       "      <th></th>\n",
       "      <th>Transaction_Amount</th>\n",
       "      <th>Transaction_Time</th>\n",
       "      <th>User_ID</th>\n",
       "    </tr>\n",
       "  </thead>\n",
       "  <tbody>\n",
       "    <tr>\n",
       "      <th>0</th>\n",
       "      <td>100</td>\n",
       "      <td>10</td>\n",
       "      <td>1</td>\n",
       "    </tr>\n",
       "    <tr>\n",
       "      <th>1</th>\n",
       "      <td>200</td>\n",
       "      <td>15</td>\n",
       "      <td>2</td>\n",
       "    </tr>\n",
       "    <tr>\n",
       "      <th>2</th>\n",
       "      <td>1500</td>\n",
       "      <td>25</td>\n",
       "      <td>3</td>\n",
       "    </tr>\n",
       "    <tr>\n",
       "      <th>3</th>\n",
       "      <td>300</td>\n",
       "      <td>30</td>\n",
       "      <td>4</td>\n",
       "    </tr>\n",
       "    <tr>\n",
       "      <th>4</th>\n",
       "      <td>120</td>\n",
       "      <td>12</td>\n",
       "      <td>1</td>\n",
       "    </tr>\n",
       "    <tr>\n",
       "      <th>5</th>\n",
       "      <td>250</td>\n",
       "      <td>13</td>\n",
       "      <td>2</td>\n",
       "    </tr>\n",
       "    <tr>\n",
       "      <th>6</th>\n",
       "      <td>2500</td>\n",
       "      <td>22</td>\n",
       "      <td>3</td>\n",
       "    </tr>\n",
       "    <tr>\n",
       "      <th>7</th>\n",
       "      <td>500</td>\n",
       "      <td>17</td>\n",
       "      <td>4</td>\n",
       "    </tr>\n",
       "    <tr>\n",
       "      <th>8</th>\n",
       "      <td>90</td>\n",
       "      <td>7</td>\n",
       "      <td>1</td>\n",
       "    </tr>\n",
       "    <tr>\n",
       "      <th>9</th>\n",
       "      <td>200</td>\n",
       "      <td>8</td>\n",
       "      <td>2</td>\n",
       "    </tr>\n",
       "    <tr>\n",
       "      <th>10</th>\n",
       "      <td>150</td>\n",
       "      <td>18</td>\n",
       "      <td>3</td>\n",
       "    </tr>\n",
       "    <tr>\n",
       "      <th>11</th>\n",
       "      <td>1200</td>\n",
       "      <td>28</td>\n",
       "      <td>4</td>\n",
       "    </tr>\n",
       "    <tr>\n",
       "      <th>12</th>\n",
       "      <td>30</td>\n",
       "      <td>5</td>\n",
       "      <td>1</td>\n",
       "    </tr>\n",
       "    <tr>\n",
       "      <th>13</th>\n",
       "      <td>90</td>\n",
       "      <td>9</td>\n",
       "      <td>2</td>\n",
       "    </tr>\n",
       "    <tr>\n",
       "      <th>14</th>\n",
       "      <td>180</td>\n",
       "      <td>20</td>\n",
       "      <td>3</td>\n",
       "    </tr>\n",
       "  </tbody>\n",
       "</table>\n",
       "</div>"
      ],
      "text/plain": [
       "    Transaction_Amount  Transaction_Time  User_ID\n",
       "0                  100                10        1\n",
       "1                  200                15        2\n",
       "2                 1500                25        3\n",
       "3                  300                30        4\n",
       "4                  120                12        1\n",
       "5                  250                13        2\n",
       "6                 2500                22        3\n",
       "7                  500                17        4\n",
       "8                   90                 7        1\n",
       "9                  200                 8        2\n",
       "10                 150                18        3\n",
       "11                1200                28        4\n",
       "12                  30                 5        1\n",
       "13                  90                 9        2\n",
       "14                 180                20        3"
      ]
     },
     "execution_count": 1,
     "metadata": {},
     "output_type": "execute_result"
    }
   ],
   "source": [
    "# Import necessary libraries\n",
    "import pandas as pd\n",
    "import numpy as np\n",
    "import matplotlib.pyplot as plt\n",
    "from sklearn.preprocessing import StandardScaler\n",
    "from sklearn.cluster import DBSCAN\n",
    "\n",
    "# Step 1: Load the dataset (For this example, we'll generate a synthetic dataset)\n",
    "# In practice, replace this with a dataset like a CSV or SQL query.\n",
    "data = {\n",
    "    'Transaction_Amount': [100, 200, 1500, 300, 120, 250, 2500, 500, 90, 200, 150, 1200, 30, 90, 180],\n",
    "    'Transaction_Time': [10, 15, 25, 30, 12, 13, 22, 17, 7, 8, 18, 28, 5, 9, 20],\n",
    "    'User_ID': [1, 2, 3, 4, 1, 2, 3, 4, 1, 2, 3, 4, 1, 2, 3]\n",
    "}\n",
    "\n",
    "# Create DataFrame\n",
    "df = pd.DataFrame(data)\n",
    "df\n",
    "# or give the input of dataset \n",
    "# df = pd.read_csv(file_name) "
   ]
  },
  {
   "cell_type": "code",
   "execution_count": 2,
   "id": "2b2ba2be",
   "metadata": {},
   "outputs": [],
   "source": [
    "# Step 2: Preprocess the data\n",
    "# Normalize the features using StandardScaler (important for DBSCAN)\n",
    "scaler = StandardScaler()\n",
    "scaled_data = scaler.fit_transform(df[['Transaction_Amount', 'Transaction_Time']])"
   ]
  },
  {
   "cell_type": "code",
   "execution_count": 3,
   "id": "2b433d02",
   "metadata": {},
   "outputs": [],
   "source": [
    "# Step 3: Apply DBSCAN for anomaly detection\n",
    "# We assume epsilon=0.5 (max distance for two points to be in the same neighborhood)\n",
    "# and min_samples=3 (minimum number of points to form a dense region)\n",
    "dbscan = DBSCAN(eps=0.5, min_samples=3)\n",
    "df['Cluster'] = dbscan.fit_predict(scaled_data)"
   ]
  },
  {
   "cell_type": "code",
   "execution_count": 4,
   "id": "d973f8ac",
   "metadata": {},
   "outputs": [
    {
     "name": "stdout",
     "output_type": "stream",
     "text": [
      "    Transaction_Amount  Transaction_Time  User_ID  Cluster\n",
      "0                  100                10        1        0\n",
      "1                  200                15        2        0\n",
      "2                 1500                25        3       -1\n",
      "3                  300                30        4       -1\n",
      "4                  120                12        1        0\n",
      "5                  250                13        2        0\n",
      "6                 2500                22        3       -1\n",
      "7                  500                17        4       -1\n",
      "8                   90                 7        1        0\n",
      "9                  200                 8        2        0\n",
      "10                 150                18        3        0\n",
      "11                1200                28        4       -1\n",
      "12                  30                 5        1        0\n",
      "13                  90                 9        2        0\n",
      "14                 180                20        3        0\n"
     ]
    }
   ],
   "source": [
    "# Step 4: Analyze the results\n",
    "# DBSCAN assigns -1 to noise (anomalies) and cluster labels to normal points\n",
    "print(df)"
   ]
  },
  {
   "cell_type": "code",
   "execution_count": 5,
   "id": "2b5e4f9f",
   "metadata": {},
   "outputs": [
    {
     "data": {
      "image/png": "[encoded data removed]",
      "text/plain": [
       "<Figure size 800x600 with 2 Axes>"
      ]
     },
     "metadata": {},
     "output_type": "display_data"
    }
   ],
   "source": [
    "# Step 5: Visualize the clusters and anomalies\n",
    "plt.figure(figsize=(8, 6))\n",
    "plt.scatter(df['Transaction_Amount'], df['Transaction_Time'], c=df['Cluster'], cmap='viridis', s=100, alpha=0.6, edgecolors='w')\n",
    "plt.title('Fraudulent Transaction Detection using DBSCAN')\n",
    "plt.xlabel('Transaction Amount')\n",
    "plt.ylabel('Transaction Time')\n",
    "plt.colorbar(label='Cluster Label')\n",
    "plt.show()"
   ]
  },
  {
   "cell_type": "code",
   "execution_count": 6,
   "id": "fc2b7488",
   "metadata": {},
   "outputs": [
    {
     "name": "stdout",
     "output_type": "stream",
     "text": [
      "Number of detected anomalies (fraudulent transactions): 5\n"
     ]
    }
   ],
   "source": [
    "# Step 6: Evaluate DBSCAN Performance (e.g., by analyzing the number of noise points)\n",
    "# In a real dataset, you might compare the anomalies with a known \"fraudulent\" label\n",
    "num_anomalies = (df['Cluster'] == -1).sum()\n",
    "print(f\"Number of detected anomalies (fraudulent transactions): {num_anomalies}\")"
   ]
  },
  {
   "cell_type": "code",
   "execution_count": null,
   "id": "427b358f",
   "metadata": {},
   "outputs": [],
   "source": []
  }
 ],
 "metadata": {
  "kernelspec": {
   "display_name": "Python 3 (ipykernel)",
   "language": "python",
   "name": "python3"
  },
  "language_info": {
   "codemirror_mode": {
    "name": "ipython",
    "version": 3
   },
   "file_extension": ".py",
   "mimetype": "text/x-python",
   "name": "python",
   "nbconvert_exporter": "python",
   "pygments_lexer": "ipython3",
   "version": "3.8.19"
  }
 },
 "nbformat": 4,
 "nbformat_minor": 5
}
