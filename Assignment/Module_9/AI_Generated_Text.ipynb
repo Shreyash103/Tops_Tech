{
  "nbformat": 4,
  "nbformat_minor": 0,
  "metadata": {
    "colab": {
      "provenance": []
    },
    "kernelspec": {
      "name": "python3",
      "display_name": "Python 3"
    },
    "language_info": {
      "name": "python"
    }
  },
  "cells": [
    {
      "cell_type": "code",
      "source": [
        "import openai\n",
        "from typing import Sequence\n",
        "import time\n",
        "\n",
        "# Set your OpenAI API key here\n",
        "openai.api_key = 'Enter you api_key'\n",
        "\n",
        "def generate_response_with_retry(prompt, retries=5):\n",
        "    for i in range(retries):\n",
        "        try:\n",
        "            response = openai.completions.create(\n",
        "                model=\"gpt-3.5-turbo\",\n",
        "                prompt=prompt,\n",
        "                max_tokens=150,\n",
        "                temperature=0.7\n",
        "            )\n",
        "            return response['choices'][0]['text'].strip()\n",
        "        except openai.error.RateLimitError as e:\n",
        "            print(f\"Rate limit error: {e}. Retrying in {2**i} seconds.\")\n",
        "            time.sleep(2**i)  # Exponential backoff\n",
        "        except Exception as e:\n",
        "            return f\"An error occurred: {e}\"\n",
        "    return \"Max retries reached. Please try again later.\"\n",
        "\n",
        "# Example usage\n",
        "prompt = \"What are the benefits of using AI in business?\"\n",
        "response = generate_response_with_retry(prompt)\n",
        "print(\"AI Response:\", response)\n",
        "\n"
      ],
      "metadata": {
        "colab": {
          "base_uri": "https://localhost:8080/"
        },
        "id": "yxkLbU-bWNq8",
        "outputId": "5913132b-6083-42bf-a7af-def2c1903cc6"
      },
      "execution_count": null,
      "outputs": [
        {
          "output_type": "stream",
          "name": "stdout",
          "text": [
            "AI Response: An error occurred: Error code: 429 - {'error': {'message': 'You exceeded your current quota, please check your plan and billing details. For more information on this error, read the docs: https://platform.openai.com/docs/guides/error-codes/api-errors.', 'type': 'insufficient_quota', 'param': None, 'code': 'insufficient_quota'}}\n"
          ]
        }
      ]
    }
  ]
}