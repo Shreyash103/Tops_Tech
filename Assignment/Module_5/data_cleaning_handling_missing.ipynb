{
 "cells": [
  {
   "cell_type": "code",
   "execution_count": 2,
   "id": "83d563b0",
   "metadata": {},
   "outputs": [
    {
     "name": "stdout",
     "output_type": "stream",
     "text": [
      "      name   age   salary department\n",
      "0    Alice  25.0  50000.0         HR\n",
      "1      Bob  30.0      NaN         IT\n",
      "2  Charlie   NaN  60000.0    Finance\n",
      "3    David  35.0  65000.0         IT\n",
      "4      Eva   NaN  70000.0       None\n"
     ]
    }
   ],
   "source": [
    "import pandas as pd\n",
    "\n",
    "# sample dataframe with missing values\n",
    "data = {\n",
    "    'name': ['Alice', 'Bob', 'Charlie', 'David', 'Eva'],\n",
    "    'age': [25, 30, None, 35, None],\n",
    "    'salary': [50000, None, 60000, 65000, 70000],\n",
    "    'department': ['HR', 'IT', 'Finance', 'IT', None]\n",
    "}\n",
    "\n",
    "# Create DataFrame\n",
    "df = pd.DataFrame(data)\n",
    "print(df)\n",
    "# or you can use this for existing dataframe \n",
    "# df = pd.read_csv(\"abc.csv\")"
   ]
  },
  {
   "cell_type": "code",
   "execution_count": 3,
   "id": "391f34e8",
   "metadata": {},
   "outputs": [
    {
     "name": "stdout",
     "output_type": "stream",
     "text": [
      "Missing values in the dataset:\n",
      "name          0\n",
      "age           2\n",
      "salary        1\n",
      "department    1\n",
      "dtype: int64\n"
     ]
    }
   ],
   "source": [
    "# 1. Identify missing values in the DataFrame\n",
    "print(\"Missing values in the dataset:\")\n",
    "print(df.isnull().sum())"
   ]
  },
  {
   "cell_type": "code",
   "execution_count": 4,
   "id": "0db0d5d1",
   "metadata": {},
   "outputs": [
    {
     "name": "stdout",
     "output_type": "stream",
     "text": [
      "      name   age   salary department\n",
      "0    Alice  25.0  50000.0         HR\n",
      "1      Bob  30.0  62500.0         IT\n",
      "2  Charlie  30.0  60000.0    Finance\n",
      "3    David  35.0  65000.0         IT\n",
      "4      Eva  30.0  70000.0    Unknown\n"
     ]
    }
   ],
   "source": [
    "# 2. Fill missing values\n",
    "# Fill 'age' with the mean of the 'age' column\n",
    "df['age'] = df['age'].fillna(df['age'].mean())\n",
    "\n",
    "# Fill 'salary' with the median of the 'salary' column\n",
    "df['salary'] = df['salary'].fillna(df['salary'].median())\n",
    "\n",
    "# Fill 'department' with a placeholder value like 'Unknown'\n",
    "df['department'] = df['department'].fillna('Unknown')\n",
    "print(df)"
   ]
  },
  {
   "cell_type": "code",
   "execution_count": 5,
   "id": "d8c5d339",
   "metadata": {},
   "outputs": [
    {
     "name": "stdout",
     "output_type": "stream",
     "text": [
      "\n",
      "Data after handling missing values and dropping irrelevant columns:\n",
      "    age   salary\n",
      "0  25.0  50000.0\n",
      "1  30.0  62500.0\n",
      "2  30.0  60000.0\n",
      "3  35.0  65000.0\n",
      "4  30.0  70000.0\n"
     ]
    }
   ],
   "source": [
    "# 3. Drop irrelevant columns (for example, 'name' and 'department' might be irrelevant here)\n",
    "df = df.drop(columns=['name', 'department'])\n",
    "\n",
    "# Display the updated DataFrame\n",
    "print(\"\\nData after handling missing values and dropping irrelevant columns:\")\n",
    "print(df)"
   ]
  },
  {
   "cell_type": "code",
   "execution_count": null,
   "id": "0e0686f8",
   "metadata": {},
   "outputs": [],
   "source": []
  }
 ],
 "metadata": {
  "kernelspec": {
   "display_name": "Python 3 (ipykernel)",
   "language": "python",
   "name": "python3"
  },
  "language_info": {
   "codemirror_mode": {
    "name": "ipython",
    "version": 3
   },
   "file_extension": ".py",
   "mimetype": "text/x-python",
   "name": "python",
   "nbconvert_exporter": "python",
   "pygments_lexer": "ipython3",
   "version": "3.8.19"
  }
 },
 "nbformat": 4,
 "nbformat_minor": 5
}
