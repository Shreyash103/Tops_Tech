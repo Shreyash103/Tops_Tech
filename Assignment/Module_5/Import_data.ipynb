{
 "cells": [
  {
   "cell_type": "code",
   "execution_count": 2,
   "id": "2b709ee2",
   "metadata": {},
   "outputs": [
    {
     "name": "stdout",
     "output_type": "stream",
     "text": [
      "Requirement already satisfied: pandas in /opt/anaconda3/lib/python3.8/site-packages (2.0.3)\n",
      "Requirement already satisfied: requests in /opt/anaconda3/lib/python3.8/site-packages (2.32.3)\n",
      "Collecting mysql-connector-python\n",
      "  Downloading mysql_connector_python-9.0.0-py2.py3-none-any.whl.metadata (2.0 kB)\n",
      "Collecting psycopg2\n",
      "  Downloading psycopg2-2.9.10.tar.gz (385 kB)\n",
      "  Preparing metadata (setup.py) ... \u001b[?25ldone\n",
      "\u001b[?25hRequirement already satisfied: python-dateutil>=2.8.2 in /opt/anaconda3/lib/python3.8/site-packages (from pandas) (2.9.0)\n",
      "Requirement already satisfied: pytz>=2020.1 in /opt/anaconda3/lib/python3.8/site-packages (from pandas) (2024.2)\n",
      "Requirement already satisfied: tzdata>=2022.1 in /opt/anaconda3/lib/python3.8/site-packages (from pandas) (2023.3)\n",
      "Requirement already satisfied: numpy>=1.20.3 in /opt/anaconda3/lib/python3.8/site-packages (from pandas) (1.24.4)\n",
      "Requirement already satisfied: charset-normalizer<4,>=2 in /opt/anaconda3/lib/python3.8/site-packages (from requests) (3.3.2)\n",
      "Requirement already satisfied: idna<4,>=2.5 in /opt/anaconda3/lib/python3.8/site-packages (from requests) (3.10)\n",
      "Requirement already satisfied: urllib3<3,>=1.21.1 in /opt/anaconda3/lib/python3.8/site-packages (from requests) (1.26.19)\n",
      "Requirement already satisfied: certifi>=2017.4.17 in /opt/anaconda3/lib/python3.8/site-packages (from requests) (2024.8.30)\n",
      "Requirement already satisfied: six>=1.5 in /opt/anaconda3/lib/python3.8/site-packages (from python-dateutil>=2.8.2->pandas) (1.16.0)\n",
      "Downloading mysql_connector_python-9.0.0-py2.py3-none-any.whl (372 kB)\n",
      "Building wheels for collected packages: psycopg2\n",
      "  Building wheel for psycopg2 (setup.py) ... \u001b[?25ldone\n",
      "\u001b[?25h  Created wheel for psycopg2: filename=psycopg2-2.9.10-cp38-cp38-macosx_11_0_arm64.whl size=132332 sha256=22dbf5388bcf3d57fa1397150af61c3bcef9ce124572b682bdba14593d9e5a62\n",
      "  Stored in directory: /Users/shreyashprajapati/Library/Caches/pip/wheels/85/b7/48/d6ffc48322fa70ef973e9ca95a5e012f2d71efadd88d847865\n",
      "Successfully built psycopg2\n",
      "Installing collected packages: psycopg2, mysql-connector-python\n",
      "Successfully installed mysql-connector-python-9.0.0 psycopg2-2.9.10\n"
     ]
    }
   ],
   "source": [
    "!pip install pandas requests mysql-connector-python psycopg2"
   ]
  },
  {
   "cell_type": "code",
   "execution_count": 3,
   "id": "cd8ab85d",
   "metadata": {},
   "outputs": [],
   "source": [
    "import pandas as pd\n",
    "import requests\n",
    "import mysql.connector\n",
    "import psycopg2\n",
    "\n",
    "# 1. Read CSV file using pandas\n",
    "def read_csv_file(file_path):\n",
    "    try:\n",
    "        data = pd.read_csv(file_path)\n",
    "        print(\"CSV Data:\")\n",
    "        print(data)\n",
    "        return data\n",
    "    except Exception as e:\n",
    "        print(f\"Error reading CSV file: {e}\")"
   ]
  },
  {
   "cell_type": "code",
   "execution_count": 5,
   "id": "3330e4bc",
   "metadata": {},
   "outputs": [],
   "source": [
    "# 2. Fetch data from an API (Example: OpenWeatherMap API)\n",
    "def fetch_data_from_api(api_url, api_key):\n",
    "    try:\n",
    "        response = requests.get(api_url, params={'appid': api_key})\n",
    "        response.raise_for_status()  # Will raise an HTTPError if the response code is 4xx/5xx\n",
    "        data = response.json()  # Parse the JSON response\n",
    "        print(\"API Data:\")\n",
    "        print(data)\n",
    "        return data\n",
    "    except requests.exceptions.RequestException as e:\n",
    "        print(f\"Error fetching data from API: {e}\")\n"
   ]
  },
  {
   "cell_type": "code",
   "execution_count": 6,
   "id": "2af16d66",
   "metadata": {},
   "outputs": [],
   "source": [
    "# 3. Connect to MySQL Database and fetch records\n",
    "def connect_mysql_and_fetch():\n",
    "    try:\n",
    "        # MySQL connection parameters \n",
    "        mysql_conn = mysql.connector.connect(\n",
    "            host=\"localhost\",\n",
    "            user=\"your_mysql_user\",\n",
    "            password=\"your_mysql_password\",\n",
    "            database=\"your_mysql_db\"\n",
    "        )\n",
    "        cursor = mysql_conn.cursor()\n",
    "        cursor.execute(\"SELECT * FROM your_table_name\")  # table name\n",
    "        records = cursor.fetchall()\n",
    "        print(\"MySQL Records:\")\n",
    "        for row in records:\n",
    "            print(row)\n",
    "        cursor.close()\n",
    "        mysql_conn.close()\n",
    "    except mysql.connector.Error as e:\n",
    "        print(f\"Error connecting to MySQL: {e}\")\n",
    "\n",
    "# 4. Connect to PostgreSQL Database and fetch records\n",
    "def connect_postgresql_and_fetch():\n",
    "    try:\n",
    "        # PostgreSQL connection parameters \n",
    "        postgres_conn = psycopg2.connect(\n",
    "            host=\"localhost\",\n",
    "            user=\"your_postgresql_user\",\n",
    "            password=\"your_postgresql_password\",\n",
    "            dbname=\"xyz.db\"\n",
    "        )\n",
    "        cursor = postgres_conn.cursor()\n",
    "        cursor.execute(\"SELECT * FROM db_name\")  # table name\n",
    "        records = cursor.fetchall()\n",
    "        print(\"PostgreSQL Records:\")\n",
    "        for row in records:\n",
    "            print(row)\n",
    "        cursor.close()\n",
    "        postgres_conn.close()\n",
    "    except psycopg2.Error as e:\n",
    "        print(f\"Error connecting to PostgreSQL: {e}\")"
   ]
  },
  {
   "cell_type": "code",
   "execution_count": 7,
   "id": "92cc7417",
   "metadata": {},
   "outputs": [
    {
     "name": "stdout",
     "output_type": "stream",
     "text": [
      "Error reading CSV file: [Errno 2] No such file or directory: 'data.csv'\n",
      "API Data:\n",
      "{'coord': {'lon': -0.1257, 'lat': 51.5085}, 'weather': [{'id': 804, 'main': 'Clouds', 'description': 'overcast clouds', 'icon': '04d'}], 'base': 'stations', 'main': {'temp': 276.9, 'feels_like': 273.12, 'temp_min': 276.1, 'temp_max': 277.88, 'pressure': 1004, 'humidity': 87, 'sea_level': 1004, 'grnd_level': 999}, 'visibility': 10000, 'wind': {'speed': 4.63, 'deg': 350}, 'clouds': {'all': 100}, 'dt': 1741858726, 'sys': {'type': 2, 'id': 2091269, 'country': 'GB', 'sunrise': 1741846744, 'sunset': 1741888861}, 'timezone': 0, 'id': 2643743, 'name': 'London', 'cod': 200}\n",
      "Error connecting to MySQL: 1045 (28000): Access denied for user 'your_mysql_user'@'localhost' (using password: YES)\n",
      "Error connecting to PostgreSQL: could not connect to server: Connection refused\n",
      "\tIs the server running on host \"localhost\" (::1) and accepting\n",
      "\tTCP/IP connections on port 5432?\n",
      "could not connect to server: Connection refused\n",
      "\tIs the server running on host \"localhost\" (127.0.0.1) and accepting\n",
      "\tTCP/IP connections on port 5432?\n",
      "\n"
     ]
    }
   ],
   "source": [
    "# Main function to execute all tasks\n",
    "def main():\n",
    "    # Path to the CSV file\n",
    "    csv_file_path = 'data.csv'\n",
    "    \n",
    "    # API URL and key\n",
    "    api_url = 'http://api.openweathermap.org/data/2.5/weather?q=London'\n",
    "    api_key = '19dcfcc04099c41ae8d7aeb07ad1b3e6'  # Replace with your actual API key\n",
    "\n",
    "    # Read CSV file\n",
    "    read_csv_file(csv_file_path)\n",
    "\n",
    "    # Fetch data from API\n",
    "    fetch_data_from_api(api_url, api_key)\n",
    "\n",
    "    # Connect to MySQL and fetch records\n",
    "    connect_mysql_and_fetch()\n",
    "\n",
    "    # Connect to PostgreSQL and fetch records\n",
    "    connect_postgresql_and_fetch()\n",
    "\n",
    "if __name__ == \"__main__\":\n",
    "    main()"
   ]
  },
  {
   "cell_type": "code",
   "execution_count": null,
   "id": "d5535dc5",
   "metadata": {},
   "outputs": [],
   "source": []
  }
 ],
 "metadata": {
  "kernelspec": {
   "display_name": "Python 3 (ipykernel)",
   "language": "python",
   "name": "python3"
  },
  "language_info": {
   "codemirror_mode": {
    "name": "ipython",
    "version": 3
   },
   "file_extension": ".py",
   "mimetype": "text/x-python",
   "name": "python",
   "nbconvert_exporter": "python",
   "pygments_lexer": "ipython3",
   "version": "3.8.19"
  }
 },
 "nbformat": 4,
 "nbformat_minor": 5
}
