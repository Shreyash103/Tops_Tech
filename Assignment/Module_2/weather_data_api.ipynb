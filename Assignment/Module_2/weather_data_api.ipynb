{
 "cells": [
  {
   "cell_type": "markdown",
   "id": "ba800cb3",
   "metadata": {},
   "source": [
    "1. Sign up for a free API key at OpenWeatherMap\n",
    "2. Use the API to fetch weather data for a specified location.\n",
    "3. Display the weather information to the user."
   ]
  },
  {
   "cell_type": "code",
   "execution_count": 7,
   "id": "15598dac",
   "metadata": {},
   "outputs": [],
   "source": [
    "# Function to display weather information\n",
    "def display_weather(data):\n",
    "    \"\"\"\n",
    "    Displays the weather information in a readable format.\n",
    "    \n",
    "    Args:\n",
    "    - data (dict): The weather data dictionary.\n",
    "    \"\"\"\n",
    "    if data:\n",
    "        city = data['name']\n",
    "        temperature = data['main']['temp']\n",
    "        weather_description = data['weather'][0]['description']\n",
    "        humidity = data['main']['humidity']\n",
    "        wind_speed = data['wind']['speed']\n",
    "        \n",
    "        print(f\"Weather in {city}:\")\n",
    "        print(f\"Temperature: {temperature}°C\")\n",
    "        print(f\"Weather: {weather_description}\")\n",
    "        print(f\"Humidity: {humidity}%\")\n",
    "        print(f\"Wind Speed: {wind_speed} m/s\")\n",
    "    else:\n",
    "        print(\"Could not retrieve weather information.\")\n"
   ]
  },
  {
   "cell_type": "code",
   "execution_count": 8,
   "id": "9e937bce",
   "metadata": {},
   "outputs": [
    {
     "name": "stdout",
     "output_type": "stream",
     "text": [
      "Enter the city name: Ahmedabad\n",
      "Weather in Ahmedabad:\n",
      "Temperature: 36.02°C\n",
      "Weather: clear sky\n",
      "Humidity: 12%\n",
      "Wind Speed: 4.12 m/s\n"
     ]
    }
   ],
   "source": [
    "# Main function to run the program\n",
    "def main():\n",
    "    # Ask user for the city name\n",
    "    city = input(\"Enter the city name: \")\n",
    "    \n",
    "    # Your OpenWeatherMap API key\n",
    "    api_key = \"enter you api key\"  # Replace this with your actual API key\n",
    "    \n",
    "    # Fetch the weather data for the specified city\n",
    "    weather_data = get_weather(city, api_key)\n",
    "    \n",
    "    # Display the fetched weather information\n",
    "    display_weather(weather_data)\n",
    "\n",
    "if __name__ == \"__main__\":\n",
    "    main()"
   ]
  },
  {
   "cell_type": "code",
   "execution_count": null,
   "id": "5afba81f",
   "metadata": {},
   "outputs": [],
   "source": []
  }
 ],
 "metadata": {
  "kernelspec": {
   "display_name": "Python 3 (ipykernel)",
   "language": "python",
   "name": "python3"
  },
  "language_info": {
   "codemirror_mode": {
    "name": "ipython",
    "version": 3
   },
   "file_extension": ".py",
   "mimetype": "text/x-python",
   "name": "python",
   "nbconvert_exporter": "python",
   "pygments_lexer": "ipython3",
   "version": "3.8.19"
  }
 },
 "nbformat": 4,
 "nbformat_minor": 5
}
