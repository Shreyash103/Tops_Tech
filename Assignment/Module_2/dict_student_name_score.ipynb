{
 "cells": [
  {
   "cell_type": "code",
   "execution_count": 1,
   "id": "d0a69511",
   "metadata": {},
   "outputs": [],
   "source": [
    "# Initial student dictionary\n",
    "students_scores = {\n",
    "    'Alice': 85,\n",
    "    'Bob': 90,\n",
    "    'Charlie': 78,\n",
    "    'Diana': 92\n",
    "}\n",
    "\n",
    "# Function to add a new student\n",
    "def add_student(name, score):\n",
    "    if name not in students_scores:\n",
    "        students_scores[name] = score\n",
    "        print(f\"Student {name} added with score {score}.\")\n",
    "    else:\n",
    "        print(f\"Student {name} already exists in the system.\")"
   ]
  },
  {
   "cell_type": "code",
   "execution_count": 2,
   "id": "d48a8cca",
   "metadata": {},
   "outputs": [],
   "source": [
    "# Function to retrieve a student's score\n",
    "def get_score(name):\n",
    "    if name in students_scores:\n",
    "        print(f\"{name}'s score: {students_scores[name]}\")\n",
    "    else:\n",
    "        print(f\"Student {name} not found.\")"
   ]
  },
  {
   "cell_type": "code",
   "execution_count": 3,
   "id": "5332a539",
   "metadata": {},
   "outputs": [],
   "source": [
    "# Function to delete a student entry\n",
    "def delete_student(name):\n",
    "    if name in students_scores:\n",
    "        del students_scores[name]\n",
    "        print(f\"Student {name} has been deleted.\")\n",
    "    else:\n",
    "        print(f\"Student {name} not found.\")"
   ]
  },
  {
   "cell_type": "code",
   "execution_count": 4,
   "id": "e52188f1",
   "metadata": {},
   "outputs": [
    {
     "name": "stdout",
     "output_type": "stream",
     "text": [
      "Initial student scores: {'Alice': 85, 'Bob': 90, 'Charlie': 78, 'Diana': 92}\n",
      "Student Eve added with score 88.\n",
      "Bob's score: 90\n",
      "Student Charlie has been deleted.\n",
      "Final student scores: {'Alice': 85, 'Bob': 90, 'Diana': 92, 'Eve': 88}\n"
     ]
    }
   ],
   "source": [
    "# Testing the functions\n",
    "print(\"Initial student scores:\", students_scores)\n",
    "\n",
    "# Add a new student\n",
    "add_student('Eve', 88)\n",
    "\n",
    "# Retrieve a student's score\n",
    "get_score('Bob')\n",
    "\n",
    "# Delete a student entry\n",
    "delete_student('Charlie')\n",
    "\n",
    "# Final student scores after operations\n",
    "print(\"Final student scores:\", students_scores)"
   ]
  },
  {
   "cell_type": "code",
   "execution_count": null,
   "id": "9dfaa2f7",
   "metadata": {},
   "outputs": [],
   "source": []
  }
 ],
 "metadata": {
  "kernelspec": {
   "display_name": "Python 3 (ipykernel)",
   "language": "python",
   "name": "python3"
  },
  "language_info": {
   "codemirror_mode": {
    "name": "ipython",
    "version": 3
   },
   "file_extension": ".py",
   "mimetype": "text/x-python",
   "name": "python",
   "nbconvert_exporter": "python",
   "pygments_lexer": "ipython3",
   "version": "3.8.19"
  }
 },
 "nbformat": 4,
 "nbformat_minor": 5
}
