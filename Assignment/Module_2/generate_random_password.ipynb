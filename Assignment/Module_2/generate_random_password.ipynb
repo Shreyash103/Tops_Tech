{
 "cells": [
  {
   "cell_type": "code",
   "execution_count": 1,
   "id": "27a2c04c",
   "metadata": {},
   "outputs": [],
   "source": [
    "import random\n",
    "import string\n",
    "\n",
    "\"\"\"\n",
    "Generates a random password containing letters, digits, and symbols.\n",
    "Args:\n",
    "- length (int): Length of the generated password. Default is 12.\n",
    "\n",
    "Returns:\n",
    "- str: The generated random password.\n",
    "\"\"\"\n",
    "def generate_random_password(length=12):\n",
    "    # Define the characters to use in the password\n",
    "    all_characters = string.ascii_letters + string.digits + string.punctuation\n",
    "    \n",
    "    # Randomly select characters from the list\n",
    "    password = ''.join(random.choice(all_characters) for _ in range(length))\n",
    "    \n",
    "    return password"
   ]
  },
  {
   "cell_type": "code",
   "execution_count": 2,
   "id": "e2eaa07d",
   "metadata": {},
   "outputs": [
    {
     "name": "stdout",
     "output_type": "stream",
     "text": [
      "Generated password: <C\\2xWm10b|j]i\"q\n"
     ]
    }
   ],
   "source": [
    "# calling the function \n",
    "if __name__ == \"__main__\":\n",
    "    password = generate_random_password(16)  # Generates a 16-character random password\n",
    "    print(\"Generated password:\", password)"
   ]
  },
  {
   "cell_type": "code",
   "execution_count": null,
   "id": "0309a9fe",
   "metadata": {},
   "outputs": [],
   "source": []
  }
 ],
 "metadata": {
  "kernelspec": {
   "display_name": "Python 3 (ipykernel)",
   "language": "python",
   "name": "python3"
  },
  "language_info": {
   "codemirror_mode": {
    "name": "ipython",
    "version": 3
   },
   "file_extension": ".py",
   "mimetype": "text/x-python",
   "name": "python",
   "nbconvert_exporter": "python",
   "pygments_lexer": "ipython3",
   "version": "3.8.19"
  }
 },
 "nbformat": 4,
 "nbformat_minor": 5
}
