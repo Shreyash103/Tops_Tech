{
  "nbformat": 4,
  "nbformat_minor": 0,
  "metadata": {
    "colab": {
      "provenance": []
    },
    "kernelspec": {
      "name": "python3",
      "display_name": "Python 3"
    },
    "language_info": {
      "name": "python"
    }
  },
  "cells": [
    {
      "cell_type": "code",
      "execution_count": 1,
      "metadata": {
        "colab": {
          "base_uri": "https://localhost:8080/"
        },
        "id": "eLuzP8POeV7s",
        "outputId": "bf4db556-4a2e-4639-f09a-b99d7dacd0ab"
      },
      "outputs": [
        {
          "output_type": "stream",
          "name": "stdout",
          "text": [
            "Collecting faker\n",
            "  Downloading faker-37.0.0-py3-none-any.whl.metadata (15 kB)\n",
            "Requirement already satisfied: tzdata in /usr/local/lib/python3.11/dist-packages (from faker) (2025.1)\n",
            "Downloading faker-37.0.0-py3-none-any.whl (1.9 MB)\n",
            "\u001b[2K   \u001b[90m━━━━━━━━━━━━━━━━━━━━━━━━━━━━━━━━━━━━━━━━\u001b[0m \u001b[32m1.9/1.9 MB\u001b[0m \u001b[31m18.5 MB/s\u001b[0m eta \u001b[36m0:00:00\u001b[0m\n",
            "\u001b[?25hInstalling collected packages: faker\n",
            "Successfully installed faker-37.0.0\n"
          ]
        }
      ],
      "source": [
        "!pip install faker"
      ]
    },
    {
      "cell_type": "code",
      "source": [
        "from faker import Faker\n",
        "import random\n",
        "\n",
        "fake = Faker()\n",
        "\n",
        "# Function to generate random customer profiles\n",
        "def generate_random_customer():\n",
        "    name = fake.name()\n",
        "    age = random.randint(18, 70)\n",
        "    location = random.choice([\"New York\", \"San Francisco\", \"Los Angeles\", \"Chicago\", \"Miami\"])\n",
        "\n",
        "    # Random interests (3 random interests from a predefined list)\n",
        "    interests = random.sample([\"sports\", \"tech\", \"fashion\", \"gaming\", \"music\", \"travel\", \"fitness\", \"food\", \"movies\"], 3)\n",
        "\n",
        "    # Random purchase history (2 random products from a predefined list)\n",
        "    purchase_history = random.sample([\"laptop\", \"headphones\", \"running shoes\", \"t-shirt\", \"camera\", \"backpack\", \"gaming console\", \"watch\", \"smartphone\"], 2)\n",
        "\n",
        "    # Create a customer dictionary\n",
        "    customer = {\n",
        "        \"name\": name,\n",
        "        \"age\": age,\n",
        "        \"location\": location,\n",
        "        \"interests\": interests,\n",
        "        \"purchase_history\": purchase_history\n",
        "    }\n",
        "\n",
        "    return customer\n",
        "\n",
        "# Generate a list of random customers (for example, 10 customers)\n",
        "random_customers = [generate_random_customer() for _ in range(10)]\n",
        "\n",
        "# Print out the generated customer profiles\n",
        "for customer in random_customers:\n",
        "    print(customer)"
      ],
      "metadata": {
        "colab": {
          "base_uri": "https://localhost:8080/"
        },
        "id": "jN8cdEwnfU3v",
        "outputId": "1083eec7-f8d2-4245-93fe-9b9afa9c4eb1"
      },
      "execution_count": 2,
      "outputs": [
        {
          "output_type": "stream",
          "name": "stdout",
          "text": [
            "{'name': 'Mr. James Pearson', 'age': 54, 'location': 'San Francisco', 'interests': ['tech', 'sports', 'gaming'], 'purchase_history': ['backpack', 'watch']}\n",
            "{'name': 'Matthew Martinez', 'age': 28, 'location': 'Chicago', 'interests': ['sports', 'food', 'fashion'], 'purchase_history': ['watch', 'running shoes']}\n",
            "{'name': 'Heather Hull', 'age': 61, 'location': 'Miami', 'interests': ['movies', 'music', 'fitness'], 'purchase_history': ['running shoes', 'watch']}\n",
            "{'name': 'William Webb', 'age': 22, 'location': 'Chicago', 'interests': ['sports', 'tech', 'food'], 'purchase_history': ['headphones', 'watch']}\n",
            "{'name': 'Matthew Nelson', 'age': 45, 'location': 'New York', 'interests': ['fashion', 'food', 'fitness'], 'purchase_history': ['backpack', 't-shirt']}\n",
            "{'name': 'Patrick Foster', 'age': 18, 'location': 'Miami', 'interests': ['music', 'sports', 'movies'], 'purchase_history': ['backpack', 'running shoes']}\n",
            "{'name': 'Cheryl Todd', 'age': 59, 'location': 'Chicago', 'interests': ['gaming', 'food', 'sports'], 'purchase_history': ['smartphone', 'watch']}\n",
            "{'name': 'John Powers', 'age': 61, 'location': 'Chicago', 'interests': ['movies', 'food', 'travel'], 'purchase_history': ['gaming console', 'backpack']}\n",
            "{'name': 'Heather Cochran', 'age': 19, 'location': 'San Francisco', 'interests': ['food', 'gaming', 'movies'], 'purchase_history': ['laptop', 'headphones']}\n",
            "{'name': 'Eric Robinson', 'age': 22, 'location': 'San Francisco', 'interests': ['travel', 'music', 'food'], 'purchase_history': ['backpack', 'gaming console']}\n"
          ]
        }
      ]
    },
    {
      "cell_type": "code",
      "source": [
        "# Loading the Data and Prepare data\n",
        "import pandas as pd\n",
        "\n",
        "# Load customer data from a CSV file\n",
        "# df = pd.read_csv('customer_data.csv')\n",
        "df = pd.DataFrame(random_customers)\n",
        "\n",
        "# Example structure of customer_data.csv\n",
        "# name, age, interests, location, purchase_history\n",
        "# Alice, 25, [\"sports\", \"fashion\"], \"New York\", [\"running shoes\", \"t-shirt\"]\n",
        "# Bob, 34, [\"gaming\", \"tech\"], \"San Francisco\", [\"laptop\", \"headphones\"]\n",
        "\n",
        "# Function to segment customers based on age (or any other attribute)\n",
        "def segment_customers(df):\n",
        "    # Example: Segmentation based on age\n",
        "    young_customers = df[df['age'] < 30]\n",
        "    middle_aged_customers = df[(df['age'] >= 30) & (df['age'] < 50)]\n",
        "    older_customers = df[df['age'] >= 50]\n",
        "    return young_customers, middle_aged_customers, older_customers\n",
        "\n",
        "# Segment customers\n",
        "young, middle_aged, older = segment_customers(df)\n",
        "\n",
        "# Print sample segments\n",
        "print(\"Young Customers:\")\n",
        "print(young.head())"
      ],
      "metadata": {
        "colab": {
          "base_uri": "https://localhost:8080/"
        },
        "id": "9bkmVVo2fgMc",
        "outputId": "40d188f8-83f2-4348-9d6e-878b0bf5a128"
      },
      "execution_count": 4,
      "outputs": [
        {
          "output_type": "stream",
          "name": "stdout",
          "text": [
            "Young Customers:\n",
            "               name  age       location                interests  \\\n",
            "1  Matthew Martinez   28        Chicago  [sports, food, fashion]   \n",
            "3      William Webb   22        Chicago     [sports, tech, food]   \n",
            "5    Patrick Foster   18          Miami  [music, sports, movies]   \n",
            "8   Heather Cochran   19  San Francisco   [food, gaming, movies]   \n",
            "9     Eric Robinson   22  San Francisco    [travel, music, food]   \n",
            "\n",
            "             purchase_history  \n",
            "1      [watch, running shoes]  \n",
            "3         [headphones, watch]  \n",
            "5   [backpack, running shoes]  \n",
            "8        [laptop, headphones]  \n",
            "9  [backpack, gaming console]  \n"
          ]
        }
      ]
    },
    {
      "cell_type": "code",
      "source": [
        "# Genrative AI Model for personalzied Content\n",
        "\n",
        "import openai\n",
        "\n",
        "# Set your OpenAI API key\n",
        "openai.api_key = \"your_openai_api_key\"\n",
        "\n",
        "def generate_personalized_content(customer, product, tone=\"informal\"):\n",
        "    # Prepare a prompt based on customer info\n",
        "    prompt = f\"\"\"\n",
        "    Generate a personalized marketing message for a customer named {customer['name']},\n",
        "    aged {customer['age']}, living in {customer['location']}.\n",
        "    Their interests include {', '.join(customer['interests'])},\n",
        "    and they have purchased {', '.join(customer['purchase_history'])}.\n",
        "    Recommend a product '{product}' and write the content in a {tone} tone.\n",
        "    \"\"\"\n",
        "\n",
        "    response = openai.Completion.create(\n",
        "        engine=\"text-davinci-003\",  # or use GPT-4 if available\n",
        "        prompt=prompt,\n",
        "        max_tokens=200\n",
        "    )\n",
        "\n",
        "    content = response.choices[0].text.strip()\n",
        "    return content\n",
        "\n",
        "# Example: Generate personalized content for a young customer\n",
        "sample_customer = young.iloc[0]  # Take the first customer from the 'young' segment\n",
        "product = \"new running shoes\"\n",
        "\n",
        "personalized_content = generate_personalized_content(sample_customer, product)\n",
        "print(\"Generated Marketing Content:\")\n",
        "print(personalized_content)"
      ],
      "metadata": {
        "id": "aAD4FgSpftX1"
      },
      "execution_count": null,
      "outputs": []
    },
    {
      "cell_type": "code",
      "source": [
        "# Select a random customer from the list and generate personalized content\n",
        "random_customer = random.choice(random_customers)\n",
        "product = \"new running shoes\"  # Example product recommendation\n",
        "\n",
        "# Generate personalized marketing content\n",
        "personalized_content = generate_personalized_content(random_customer, product)\n",
        "\n",
        "print(\"Generated Marketing Content for Random Customer:\")\n",
        "print(personalized_content)"
      ],
      "metadata": {
        "id": "vxFPO6DXgKJ0"
      },
      "execution_count": null,
      "outputs": []
    },
    {
      "cell_type": "markdown",
      "source": [
        "## Content for Web app using Flask"
      ],
      "metadata": {
        "id": "tJzz9qfUgK28"
      }
    },
    {
      "cell_type": "code",
      "source": [
        "from flask import Flask, request, render_template_string\n",
        "import openai\n",
        "\n",
        "# Initialize Flask app\n",
        "app = Flask(__name__)\n",
        "\n",
        "# Set your OpenAI API key\n",
        "openai.api_key = \"your_openai_api_key\"\n",
        "\n",
        "# Generate personalized content using OpenAI API\n",
        "def generate_personalized_content(customer, product, tone=\"informal\"):\n",
        "    prompt = f\"\"\"\n",
        "    Generate a personalized marketing message for a customer named {customer['name']},\n",
        "    aged {customer['age']}, living in {customer['location']}.\n",
        "    Their interests include {', '.join(customer['interests'])},\n",
        "    and they have purchased {', '.join(customer['purchase_history'])}.\n",
        "    Recommend a product '{product}' and write the content in a {tone} tone.\n",
        "    \"\"\"\n",
        "\n",
        "    response = openai.Completion.create(\n",
        "        engine=\"text-davinci-003\",  # or GPT-4 if available\n",
        "        prompt=prompt,\n",
        "        max_tokens=200\n",
        "    )\n",
        "\n",
        "    content = response.choices[0].text.strip()\n",
        "    return content\n",
        "\n",
        "@app.route(\"/\", methods=[\"GET\", \"POST\"])\n",
        "def index():\n",
        "    if request.method == \"POST\":\n",
        "        # Extract customer data from the form\n",
        "        name = request.form[\"name\"]\n",
        "        age = int(request.form[\"age\"])\n",
        "        location = request.form[\"location\"]\n",
        "        interests = request.form[\"interests\"].split(\",\")\n",
        "        purchase_history = request.form[\"purchase_history\"].split(\",\")\n",
        "        product = request.form[\"product\"]\n",
        "        tone = request.form[\"tone\"]\n",
        "\n",
        "        customer = {\n",
        "            \"name\": name,\n",
        "            \"age\": age,\n",
        "            \"location\": location,\n",
        "            \"interests\": interests,\n",
        "            \"purchase_history\": purchase_history\n",
        "        }\n",
        "\n",
        "        # Generate personalized content\n",
        "        personalized_content = generate_personalized_content(customer, product, tone)\n",
        "        return render_template_string(\"\"\"\n",
        "            <h1>Generated Marketing Content</h1>\n",
        "            <p>{{ personalized_content }}</p>\n",
        "            <br>\n",
        "            <a href=\"/\">Generate More Content</a>\n",
        "        \"\"\", personalized_content=personalized_content)\n",
        "\n",
        "    return render_template_string(\"\"\"\n",
        "        <h1>Personalized Marketing Content Generator</h1>\n",
        "        <form method=\"post\">\n",
        "            Name: <input type=\"text\" name=\"name\"><br>\n",
        "            Age: <input type=\"number\" name=\"age\"><br>\n",
        "            Location: <input type=\"text\" name=\"location\"><br>\n",
        "            Interests (comma-separated): <input type=\"text\" name=\"interests\"><br>\n",
        "            Purchase History (comma-separated): <input type=\"text\" name=\"purchase_history\"><br>\n",
        "            Product to Recommend: <input type=\"text\" name=\"product\"><br>\n",
        "            Tone: <input type=\"text\" name=\"tone\" value=\"informal\"><br>\n",
        "            <input type=\"submit\" value=\"Generate Content\">\n",
        "        </form>\n",
        "    \"\"\")\n",
        "\n",
        "# Run the app\n",
        "if __name__ == \"__main__\":\n",
        "    app.run(debug=True)\n",
        "\n",
        "\n",
        "# For Run the Web app\n",
        "# python main.py"
      ],
      "metadata": {
        "id": "B5pkY3tVgKHD"
      },
      "execution_count": null,
      "outputs": []
    }
  ]
}